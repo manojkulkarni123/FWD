{
  "nbformat": 4,
  "nbformat_minor": 0,
  "metadata": {
    "colab": {
      "provenance": [],
      "include_colab_link": true
    },
    "kernelspec": {
      "name": "python3",
      "display_name": "Python 3"
    },
    "language_info": {
      "name": "python"
    }
  },
  "cells": [
    {
      "cell_type": "markdown",
      "metadata": {
        "id": "view-in-github",
        "colab_type": "text"
      },
      "source": [
        "<a href=\"https://colab.research.google.com/github/manojkulkarni123/FWD/blob/main/LangGraph_9_ReAct_Agents.ipynb\" target=\"_parent\"><img src=\"https://colab.research.google.com/assets/colab-badge.svg\" alt=\"Open In Colab\"/></a>"
      ]
    },
    {
      "cell_type": "code",
      "execution_count": 1,
      "metadata": {
        "colab": {
          "base_uri": "https://localhost:8080/"
        },
        "id": "bGipRxjLqUEJ",
        "outputId": "6e4a5a7f-de0c-455e-a7b2-86875fc2593d"
      },
      "outputs": [
        {
          "output_type": "stream",
          "name": "stdout",
          "text": [
            "\u001b[2K     \u001b[90m━━━━━━━━━━━━━━━━━━━━━━━━━━━━━━━━━━━━━━━━\u001b[0m \u001b[32m43.5/43.5 kB\u001b[0m \u001b[31m1.2 MB/s\u001b[0m eta \u001b[36m0:00:00\u001b[0m\n",
            "\u001b[2K   \u001b[90m━━━━━━━━━━━━━━━━━━━━━━━━━━━━━━━━━━━━━━━━\u001b[0m \u001b[32m2.5/2.5 MB\u001b[0m \u001b[31m27.2 MB/s\u001b[0m eta \u001b[36m0:00:00\u001b[0m\n",
            "\u001b[2K   \u001b[90m━━━━━━━━━━━━━━━━━━━━━━━━━━━━━━━━━━━━━━━━\u001b[0m \u001b[32m423.3/423.3 kB\u001b[0m \u001b[31m11.7 MB/s\u001b[0m eta \u001b[36m0:00:00\u001b[0m\n",
            "\u001b[2K   \u001b[90m━━━━━━━━━━━━━━━━━━━━━━━━━━━━━━━━━━━━━━━━\u001b[0m \u001b[32m143.0/143.0 kB\u001b[0m \u001b[31m3.5 MB/s\u001b[0m eta \u001b[36m0:00:00\u001b[0m\n",
            "\u001b[2K   \u001b[90m━━━━━━━━━━━━━━━━━━━━━━━━━━━━━━━━━━━━━━━━\u001b[0m \u001b[32m61.3/61.3 kB\u001b[0m \u001b[31m1.6 MB/s\u001b[0m eta \u001b[36m0:00:00\u001b[0m\n",
            "\u001b[2K   \u001b[90m━━━━━━━━━━━━━━━━━━━━━━━━━━━━━━━━━━━━━━━━\u001b[0m \u001b[32m126.7/126.7 kB\u001b[0m \u001b[31m6.1 MB/s\u001b[0m eta \u001b[36m0:00:00\u001b[0m\n",
            "\u001b[2K   \u001b[90m━━━━━━━━━━━━━━━━━━━━━━━━━━━━━━━━━━━━━━━━\u001b[0m \u001b[32m1.0/1.0 MB\u001b[0m \u001b[31m16.3 MB/s\u001b[0m eta \u001b[36m0:00:00\u001b[0m\n",
            "\u001b[2K   \u001b[90m━━━━━━━━━━━━━━━━━━━━━━━━━━━━━━━━━━━━━━━━\u001b[0m \u001b[32m42.0/42.0 kB\u001b[0m \u001b[31m2.4 MB/s\u001b[0m eta \u001b[36m0:00:00\u001b[0m\n",
            "\u001b[2K   \u001b[90m━━━━━━━━━━━━━━━━━━━━━━━━━━━━━━━━━━━━━━━━\u001b[0m \u001b[32m47.2/47.2 kB\u001b[0m \u001b[31m2.8 MB/s\u001b[0m eta \u001b[36m0:00:00\u001b[0m\n",
            "\u001b[2K   \u001b[90m━━━━━━━━━━━━━━━━━━━━━━━━━━━━━━━━━━━━━━━━\u001b[0m \u001b[32m1.2/1.2 MB\u001b[0m \u001b[31m29.8 MB/s\u001b[0m eta \u001b[36m0:00:00\u001b[0m\n",
            "\u001b[2K   \u001b[90m━━━━━━━━━━━━━━━━━━━━━━━━━━━━━━━━━━━━━━━━\u001b[0m \u001b[32m194.8/194.8 kB\u001b[0m \u001b[31m11.6 MB/s\u001b[0m eta \u001b[36m0:00:00\u001b[0m\n",
            "\u001b[2K   \u001b[90m━━━━━━━━━━━━━━━━━━━━━━━━━━━━━━━━━━━━━━━━\u001b[0m \u001b[32m50.9/50.9 kB\u001b[0m \u001b[31m2.9 MB/s\u001b[0m eta \u001b[36m0:00:00\u001b[0m\n",
            "\u001b[2K   \u001b[90m━━━━━━━━━━━━━━━━━━━━━━━━━━━━━━━━━━━━━━━━\u001b[0m \u001b[32m223.6/223.6 kB\u001b[0m \u001b[31m10.2 MB/s\u001b[0m eta \u001b[36m0:00:00\u001b[0m\n",
            "\u001b[?25h"
          ]
        }
      ],
      "source": [
        "!pip -q install langchain-core langchain-community langgraph langchain-openai langchain-groq"
      ]
    },
    {
      "cell_type": "markdown",
      "source": [
        "# ***ReACT***\n",
        "\n"
      ],
      "metadata": {
        "id": "JfhsumxaFivR"
      }
    },
    {
      "cell_type": "code",
      "source": [
        "# Key and llm initialization\n",
        "import os\n",
        "from google.colab import userdata\n",
        "from langchain_groq import ChatGroq\n",
        "\n",
        "# Now you can access your environment variables using os.environ\n",
        "os.environ['GROQ_API_KEY'] = userdata.get('GROQ_API_KEY')\n",
        "os.environ['TAVILY_API_KEY'] = userdata.get('TAVILY_API_KEY')"
      ],
      "metadata": {
        "id": "qtjJ0-dvqlP6"
      },
      "execution_count": 3,
      "outputs": []
    },
    {
      "cell_type": "code",
      "source": [
        "# Tavily tool initialization\n",
        "from langchain_community.tools.tavily_search import TavilySearchResults\n",
        "from langchain_core.tools import tool\n",
        "\n",
        "tavily_tool = TavilySearchResults(max_results=5)"
      ],
      "metadata": {
        "id": "KPq7WIpgsRMa"
      },
      "execution_count": 4,
      "outputs": []
    },
    {
      "cell_type": "code",
      "source": [
        "def multiply(a: int, b: int) -> int:\n",
        "    \"\"\"Multiply a and b.\n",
        "\n",
        "    Args:\n",
        "        a: first int\n",
        "        b: second int\n",
        "    \"\"\"\n",
        "    return a * b\n",
        "\n",
        "# This will be a tool\n",
        "def add(a: int, b: int) -> int:\n",
        "    \"\"\"Adds a and b.\n",
        "\n",
        "    Args:\n",
        "        a: first int\n",
        "        b: second int\n",
        "    \"\"\"\n",
        "    return a + b\n",
        "\n",
        "def divide(a: int, b: int) -> float:\n",
        "    \"\"\"Divide a and b.\n",
        "\n",
        "    Args:\n",
        "        a: first int\n",
        "        b: second int\n",
        "    \"\"\"\n",
        "    return a / b\n",
        "\n",
        "tools = [add, multiply, divide, tavily_tool]\n",
        "\n",
        "llm = ChatGroq(model=\"llama-3.3-70b-versatile\")\n",
        "\n",
        "llm_with_tools = llm.bind_tools(tools, parallel_tool_calls=False)"
      ],
      "metadata": {
        "id": "_gHEHAlasoDp"
      },
      "execution_count": 37,
      "outputs": []
    },
    {
      "cell_type": "code",
      "source": [
        "from langgraph.graph import MessagesState\n",
        "from langchain_core.messages import HumanMessage, SystemMessage\n",
        "\n",
        "# System message\n",
        "sys_msg = SystemMessage(content=\"You are a helpful assistant tasked with performing arithmetic and search on a set of inputs.\")\n",
        "\n",
        "# Node\n",
        "def assistant(state: MessagesState):\n",
        "   return {\"messages\": [llm_with_tools.invoke([sys_msg] + state[\"messages\"])]}"
      ],
      "metadata": {
        "id": "V_Yp7PYWqxeV"
      },
      "execution_count": 21,
      "outputs": []
    },
    {
      "cell_type": "code",
      "source": [
        "from langgraph.graph import START, StateGraph\n",
        "from langgraph.prebuilt import tools_condition\n",
        "from langgraph.prebuilt import ToolNode\n",
        "from IPython.display import Image, display\n",
        "\n",
        "# Graph\n",
        "app = StateGraph(MessagesState)\n",
        "\n",
        "# Define nodes: these do the work\n",
        "app.add_node(\"assistant\", assistant)\n",
        "app.add_node(\"tools\", ToolNode(tools))\n",
        "\n",
        "# Define edges: these determine how the control flow moves\n",
        "app.add_edge(START, \"assistant\")\n",
        "app.add_conditional_edges(\n",
        "    \"assistant\",\n",
        "    # If the latest message (result) from assistant is a tool call -> tools_condition routes to tools\n",
        "    # If the latest message (result) from assistant is a not a tool call -> tools_condition routes to END\n",
        "    tools_condition,\n",
        ")\n",
        "app.add_edge(\"tools\", \"assistant\")\n",
        "react_graph = app.compile()\n",
        "\n",
        "# Show\n",
        "display(Image(react_graph.get_graph(xray=True).draw_mermaid_png()))"
      ],
      "metadata": {
        "colab": {
          "base_uri": "https://localhost:8080/",
          "height": 266
        },
        "id": "1eiZNUbHl20m",
        "outputId": "e6043972-bd6f-4075-9e05-adf95a122041"
      },
      "execution_count": 58,
      "outputs": [
        {
          "output_type": "display_data",
          "data": {
            "image/png": "[encoded data removed]",
            "text/plain": [
              "<IPython.core.display.Image object>"
            ]
          },
          "metadata": {}
        }
      ]
    },
    {
      "cell_type": "code",
      "source": [
        "messages = [HumanMessage(content=\"Add 5 and 6. Multiply the output by 2. Divide the output by 5\")]\n",
        "messages = react_graph.invoke({\"messages\": messages})"
      ],
      "metadata": {
        "id": "wSNOq6BMmIj2"
      },
      "execution_count": 23,
      "outputs": []
    },
    {
      "cell_type": "code",
      "source": [
        "for m in messages['messages']:\n",
        "    m.pretty_print()"
      ],
      "metadata": {
        "colab": {
          "base_uri": "https://localhost:8080/"
        },
        "id": "O-ryL05WmiRp",
        "outputId": "7c1d8288-8c69-46d4-fb8c-10ce9d531e70"
      },
      "execution_count": 24,
      "outputs": [
        {
          "output_type": "stream",
          "name": "stdout",
          "text": [
            "================================\u001b[1m Human Message \u001b[0m=================================\n",
            "\n",
            "Add 5 and 6. Multiply the output by 2. Divide the output by 5\n",
            "==================================\u001b[1m Ai Message \u001b[0m==================================\n",
            "Tool Calls:\n",
            "  add (call_bdjw)\n",
            " Call ID: call_bdjw\n",
            "  Args:\n",
            "    a: 5\n",
            "    b: 6\n",
            "=================================\u001b[1m Tool Message \u001b[0m=================================\n",
            "Name: add\n",
            "\n",
            "11\n",
            "==================================\u001b[1m Ai Message \u001b[0m==================================\n",
            "Tool Calls:\n",
            "  multiply (call_c8we)\n",
            " Call ID: call_c8we\n",
            "  Args:\n",
            "    a: 11\n",
            "    b: 2\n",
            "=================================\u001b[1m Tool Message \u001b[0m=================================\n",
            "Name: multiply\n",
            "\n",
            "22\n",
            "==================================\u001b[1m Ai Message \u001b[0m==================================\n",
            "Tool Calls:\n",
            "  divide (call_5pf7)\n",
            " Call ID: call_5pf7\n",
            "  Args:\n",
            "    a: 22\n",
            "    b: 5\n",
            "=================================\u001b[1m Tool Message \u001b[0m=================================\n",
            "Name: divide\n",
            "\n",
            "4.4\n",
            "==================================\u001b[1m Ai Message \u001b[0m==================================\n",
            "\n",
            "The final result is 4.4.\n"
          ]
        }
      ]
    },
    {
      "cell_type": "code",
      "source": [
        "messages = [HumanMessage(content=\"Search how many centruries score by Virat Kohli and then tell me the number if we add 20 more to that\")]\n",
        "messages = react_graph.invoke({\"messages\": messages})"
      ],
      "metadata": {
        "id": "5xHEkgdQmnVc"
      },
      "execution_count": 38,
      "outputs": []
    },
    {
      "cell_type": "code",
      "source": [
        "for m in messages['messages']:\n",
        "    m.pretty_print()"
      ],
      "metadata": {
        "colab": {
          "base_uri": "https://localhost:8080/"
        },
        "id": "rcvhdsPmnSCU",
        "outputId": "4b8f9711-0737-417f-d282-790a2c32871b"
      },
      "execution_count": 39,
      "outputs": [
        {
          "output_type": "stream",
          "name": "stdout",
          "text": [
            "================================\u001b[1m Human Message \u001b[0m=================================\n",
            "\n",
            "Search how many centruries score by Virat Kohli and then tell me the number if we add 20 more to that\n",
            "==================================\u001b[1m Ai Message \u001b[0m==================================\n",
            "Tool Calls:\n",
            "  tavily_search_results_json (call_eh6f)\n",
            " Call ID: call_eh6f\n",
            "  Args:\n",
            "    query: Virat Kohli centuries score\n",
            "=================================\u001b[1m Tool Message \u001b[0m=================================\n",
            "Name: tavily_search_results_json\n",
            "\n",
            "[{\"title\": \"Virat Kohli Centuries | Know When Was Kohli's Last Century - Howzat\", \"url\": \"https://www.howzat.com/blog/cricket/virat-kohli-centuries-in-odi-test-t20\", \"content\": \"Virat Kohli’s Centuries in ODI\\n\\nVirat Kohli has scored 50 centuries in ODI in his career playing for India. The Indian cricket team has won 42 ODI matches, tied 1, and lost 7 when Virat has scored a century. That is a staggering 84% win percentage when Virat scores an ODI hundred for India.\\n\\nVirat’s first ODI century (107 runs) came against Sri Lanka on 24th December 2009 at Eden Gardens. Kohli’s highest ODI score of 183 runs came in the 2012 Asia Cup against Pakistan at Mirpur. [...] Virat Kohli Centuries | List of Virat Kohli IPL & International Centuries\\n\\nVirat Kohli has scored a total of 81 international and 8 IPL centuries in his 16 years of glittering career across the three formats. [...] How many centuries does Virat Kohli have in all formats?\\n\\nAs of today, Virat Kohli has made 81 centuries in international cricket - 30 centuries in Test cricket, 51 centuries in ODIs, and 1 century in T20Is. He is the only player to have scored 50 centuries in One Day international cricket. Here is a list of international cricket centuries by Virat Kohli:\\n\\nWhen was Virat Kohli's last ODI century?\", \"score\": 0.88705814}, {\"title\": \"List of Virat Kohli international & IPL centuries - CricTracker\", \"url\": \"https://www.crictracker.com/virat-kohli-centuries-list-of-virat-kohli-test-and-odi-centuries/\", \"content\": \"Against Australia in Perth, Virat Kohli scored his 81st century during the second innings of the first Border-Gavaskar Test. He scored 100 in 143 balls. Australia need 530 runs and India need 9 wickets to win the first Test. \\nVirat Kohli's IPL Centuries List:\\nNo  Date    Score   Opposition  Venue\\n1   April 24, 2016  100 (63)   Gujarat Lions   Saurashtra Cricket Association Stadium, Rajkot\\n2   May 7, 2016 108 (58)   Rising Pune Supergiants M Chinnaswamy Stadium, Bengaluru [...] Kohli has the most international centuries among active players worldwide. The legendary Sachin Tendulkar occupies the top spot, with a mammoth 100 international hundreds to his name. While Virat Kohli has scored 50 hundreds in the ODI format, he has scored 30 centuries in Test cricket and a lone ton in the shortest form of the game. [...] 8   April 6, 2023   113 (72)   Rajasthan Royals     Sawai Mansingh Stadium, Jaipur\\nVirat Kohli’s T20I Century:\\nNo. Score   Opposition  Venue   Date\\n1   122 (61)   Afghanistan Dubai   08-Sep-22\\n  \\nVirat Kohli’s ODI Centuries:\\nNo. Score   Opposition  Venue   Date\\n1   107 Sri Lanka   Eden Gardens, Kolkata   24-Dec-09\\n2   102    Bangladesh  Sher-e-Bangla Cricket Stadium, Dhaka    11-Jan-10\\n3   118 Australia   APCA-VDCA Stadium, Visakhapatnam    20-Oct-10\", \"score\": 0.84277284}, {\"title\": \"Highest ODI Hundreds: On Which Day of the Week Did Virat Kohli ...\", \"url\": \"https://www.jagranjosh.com/general-knowledge/highest-odi-hundreds-which-day-of-the-week-virat-kohli-scored-most-centuries-1740377532-1\", \"content\": \"In his 19-year career, Virat Kohli has scored 51 ODI centuries. Out of which he has made the highest century score on Sundays, which is 24. Day-\", \"score\": 0.81665546}, {\"title\": \"Virat Kohli has scored an ODI 100 in every country he has played\", \"url\": \"https://www.reddit.com/r/Cricket/comments/1ix3yc4/virat_kohli_has_scored_an_odi_100_in_every/\", \"content\": \"He has the highest centuries while chasing, 27. Next in line are Sri Lanka at 27, England at 26 and Australia at 25. Don't know if this is true.\", \"score\": 0.7159213}, {\"title\": \"Virat Kohli's 71 Centuries - Kaggle\", \"url\": \"https://www.kaggle.com/datasets/gauravtopre/virat-kohlis-71-centuries\", \"content\": \"A right-handed top order batsman, he has made 71 centuries in international cricket — 27 in Test cricket, 43 in One Day Internationals (ODIs) and 1 in Twenty20\", \"score\": 0.71377134}]\n",
            "==================================\u001b[1m Ai Message \u001b[0m==================================\n",
            "Tool Calls:\n",
            "  add (call_9yx3)\n",
            " Call ID: call_9yx3\n",
            "  Args:\n",
            "    a: 81\n",
            "    b: 20\n",
            "=================================\u001b[1m Tool Message \u001b[0m=================================\n",
            "Name: add\n",
            "\n",
            "101\n",
            "==================================\u001b[1m Ai Message \u001b[0m==================================\n",
            "\n",
            "Virat Kohli has scored 81 centuries in his career. If we add 20 more to that, the total number of centuries would be 101.\n"
          ]
        }
      ]
    },
    {
      "cell_type": "markdown",
      "source": [
        "<section>\n"
      ],
      "metadata": {
        "id": "lfAKV3b5_usn"
      }
    },
    {
      "cell_type": "markdown",
      "source": [
        "<section>\n"
      ],
      "metadata": {
        "id": "u5IFNTp0AP-r"
      }
    },
    {
      "cell_type": "markdown",
      "source": [
        "# ***aggregator***\n"
      ],
      "metadata": {
        "id": "fDNXnmFWA19o"
      }
    },
    {
      "cell_type": "code",
      "source": [
        "from pydantic import BaseModel, Field\n",
        "from typing_extensions import TypedDict\n",
        "\n",
        "class STATE(TypedDict):\n",
        "  topic:str\n",
        "  poem:str\n",
        "  story:str\n",
        "  joke:str\n",
        "  combined_output:str"
      ],
      "metadata": {
        "id": "BkmpvX101Nbx"
      },
      "execution_count": 71,
      "outputs": []
    },
    {
      "cell_type": "code",
      "source": [
        "assistant = ChatGroq(model=\"llama-3.3-70b-versatile\")"
      ],
      "metadata": {
        "id": "poULtHo_4yas"
      },
      "execution_count": 72,
      "outputs": []
    },
    {
      "cell_type": "code",
      "source": [
        "def poemgen(state:STATE):\n",
        "\n",
        "  poem = assistant.invoke(f\"Generate a poem based on this topic:{state['topic']}\")\n",
        "  return {\"poem\":poem}\n",
        "\n",
        "\n"
      ],
      "metadata": {
        "id": "PmKckNYD1NZU"
      },
      "execution_count": 73,
      "outputs": []
    },
    {
      "cell_type": "code",
      "source": [
        "def storygen(state:STATE):\n",
        "\n",
        "  story = assistant.invoke(f\"Generate a story based on this topic:{state['topic']}\")\n",
        "  return {\"story\":story}\n"
      ],
      "metadata": {
        "id": "uKoS5-aE1Mi2"
      },
      "execution_count": 74,
      "outputs": []
    },
    {
      "cell_type": "code",
      "source": [
        "def jokegen(state:STATE):\n",
        "\n",
        "  joke = assistant.invoke(f\"Generate a joke based on this topic:{state['topic']}\")\n",
        "  return { \"joke\":joke}\n"
      ],
      "metadata": {
        "id": "wrieV1XL6aP3"
      },
      "execution_count": 75,
      "outputs": []
    },
    {
      "cell_type": "code",
      "source": [
        "def aggregator(state:STATE):\n",
        "\n",
        "  output = f\"Poem:{state['poem']}+\\n\\n+Story:{state['story']}+\\n\\n+Joke:{state['joke']}\"\n",
        "  return {\"combined_output\":output}"
      ],
      "metadata": {
        "id": "fM3dO7jH6z88"
      },
      "execution_count": 76,
      "outputs": []
    },
    {
      "cell_type": "code",
      "source": [
        "from langgraph.graph import START, StateGraph,END\n",
        "from IPython.display import Image, display\n",
        "\n",
        "\n",
        "app=StateGraph(STATE)\n",
        "\n",
        "app.add_node(\"poemgen\",poemgen)\n",
        "app.add_node(\"storygen\",storygen)\n",
        "app.add_node(\"jokegen\",jokegen)\n",
        "app.add_node(\"aggregator\",aggregator)\n",
        "\n",
        "app.add_edge(START,\"poemgen\")\n",
        "app.add_edge(START,\"storygen\")\n",
        "app.add_edge(START,\"jokegen\")\n",
        "app.add_edge(\"jokegen\",\"aggregator\")\n",
        "app.add_edge(\"storygen\",\"aggregator\")\n",
        "app.add_edge(\"poemgen\",\"aggregator\")\n",
        "app.add_edge(\"aggregator\",END)\n",
        "\n",
        "parallel_builder=app.compile()\n",
        "\n",
        "parallel_builder.get_graph(xray=True).draw_mermaid()\n"
      ],
      "metadata": {
        "id": "letG3sF07bjC",
        "outputId": "50fd912f-4ba0-49ba-fc20-371de98a815b",
        "colab": {
          "base_uri": "https://localhost:8080/",
          "height": 70
        }
      },
      "execution_count": 83,
      "outputs": [
        {
          "output_type": "execute_result",
          "data": {
            "text/plain": [
              "'---\\nconfig:\\n  flowchart:\\n    curve: linear\\n---\\ngraph TD;\\n\\t__start__([<p>__start__</p>]):::first\\n\\tpoemgen(poemgen)\\n\\tstorygen(storygen)\\n\\tjokegen(jokegen)\\n\\taggregator(aggregator)\\n\\t__end__([<p>__end__</p>]):::last\\n\\t__start__ --> jokegen;\\n\\t__start__ --> poemgen;\\n\\t__start__ --> storygen;\\n\\taggregator --> __end__;\\n\\tjokegen --> aggregator;\\n\\tpoemgen --> aggregator;\\n\\tstorygen --> aggregator;\\n\\tclassDef default fill:#f2f0ff,line-height:1.2\\n\\tclassDef first fill-opacity:0\\n\\tclassDef last fill:#bfb6fc\\n'"
            ],
            "application/vnd.google.colaboratory.intrinsic+json": {
              "type": "string"
            }
          },
          "metadata": {},
          "execution_count": 83
        }
      ]
    },
    {
      "cell_type": "code",
      "source": [
        "state = parallel_builder.invoke({\"topic\": \"life\"})\n",
        "print(state[\"combined_output\"])"
      ],
      "metadata": {
        "id": "Z_7ZepMy9-Vm",
        "outputId": "44475cef-c6d6-4c7d-f39a-e8cc7054cf5a",
        "colab": {
          "base_uri": "https://localhost:8080/"
        }
      },
      "execution_count": 82,
      "outputs": [
        {
          "output_type": "stream",
          "name": "stdout",
          "text": [
            "Poem:content=\"Life, a journey we all must take,\\nA path unwinding, for our hearts to make.\\nWith every step, a story's spun,\\nOf trials and tribulations, of joy and fun.\\n\\nInnocence and wonder, in childhood's eyes,\\nA world of discovery, where dreams arise.\\nThe laughter and tears, the loves and the fears,\\nShape us into who we are, through all the years.\\n\\nAs we grow, our paths begin to stray,\\nThrough labyrinths of choice, we find our way.\\nWe chase our passions, we follow our hearts,\\nAnd in the pursuit, our true selves start.\\n\\nIn the depths of struggle, we find our strength,\\nIn the darkness of night, a light at length.\\nFor life is a tapestry, rich and bold,\\nWoven with threads of love, of loss, of gold.\\n\\nThrough every moment, we're given a choice,\\nTo find the beauty, or to hear the voice,\\nOf doubt and fear, that whispers in our ear,\\nBut still we rise, and banish every fear.\\n\\nFor life is precious, a gift so rare,\\nA fleeting breath, a moment we must share.\\nSo let us cherish, every second we live,\\nAnd fill our hearts, with love, with hope, with give.\\n\\nIn the end, it's not the years we've lived,\\nBut the life we've lived, in those years we've given.\\nSo let us make the most, of every single day,\\nAnd fill our lives, with purpose, with love, in every way.\" additional_kwargs={} response_metadata={'token_usage': {'completion_tokens': 313, 'prompt_tokens': 44, 'total_tokens': 357, 'completion_time': 1.138181818, 'prompt_time': 0.002409354, 'queue_time': 0.203368867, 'total_time': 1.140591172}, 'model_name': 'llama-3.3-70b-versatile', 'system_fingerprint': 'fp_3f3b593e33', 'finish_reason': 'stop', 'logprobs': None} id='run-808f145a-90f4-45f3-b12d-db6834082c55-0' usage_metadata={'input_tokens': 44, 'output_tokens': 313, 'total_tokens': 357}+\n",
            "\n",
            "+Story:content='Once upon a time, in a small village nestled in the rolling hills of the countryside, there lived a young girl named Maya. Maya was a curious and adventurous soul, with a heart full of wonder and a mind full of questions. She loved to explore the world around her, to learn new things, and to discover the secrets of the universe.\\n\\nAs she grew older, Maya began to realize that life was not just about exploring the world, but also about understanding herself. She started to ask herself questions like \"Who am I?\", \"What is my purpose?\", and \"What makes me happy?\". She spent countless hours reading books, talking to wise old men and women, and reflecting on her own experiences.\\n\\nOne day, while wandering through the village, Maya stumbled upon a small, mysterious shop. The sign above the door read \"The Shop of Life\", and the windows were filled with strange and exotic objects that seemed to glow with an otherworldly light. Maya felt drawn to the shop, as if it held the answers to all her questions.\\n\\nShe pushed open the door and stepped inside, and was immediately struck by the warmth and coziness of the shop. The air was thick with the scent of incense, and the sound of soft music filled the air. Maya wandered through the aisles, running her fingers over the strange objects on display.\\n\\nAs she reached the back of the shop, Maya came face to face with the owner, an old man with a long white beard and piercing blue eyes. He smiled at her, and said, \"Welcome, young one. I have been expecting you. My name is Kaito, and I am here to guide you on your journey through life.\"\\n\\nMaya was taken aback, but she felt a sense of trust and comfort in Kaito\\'s presence. She asked him, \"What is the meaning of life?\", and Kaito smiled and said, \"The meaning of life is not something that can be found in a book or taught in a classroom. It is something that must be experienced, something that must be lived.\"\\n\\nKaito took Maya on a journey through the shop, showing her all the strange and wonderful objects on display. He explained that each object represented a different aspect of life, and that together, they formed a tapestry of experience and understanding.\\n\\nAs they walked, Kaito told Maya stories of love and loss, of joy and sorrow, of triumph and defeat. He spoke of the beauty and the ugliness of life, and of the importance of embracing both. Maya listened, entranced, as Kaito\\'s words wove a spell of wisdom and wonder around her.\\n\\nEventually, they came to a small, quiet room in the back of the shop. The room was filled with candles, and the air was thick with the scent of sandalwood. Kaito sat down on a cushion, and motioned for Maya to join him.\\n\\n\"This is the heart of the shop,\" he said. \"This is where the true meaning of life is found. It is not something that can be taught or learned, but something that must be felt. It is the feeling of being alive, of being present in this moment, of being connected to all things.\"\\n\\nMaya closed her eyes, and took a deep breath. As she exhaled, she felt a sense of peace and understanding wash over her. She felt the weight of her questions lifting, and the answers becoming clear.\\n\\nAs she opened her eyes, Kaito smiled and said, \"You have found the meaning of life, Maya. It is not something that can be found, but something that is always present. It is the love, the joy, the beauty, and the wonder of being alive.\"\\n\\nMaya left the shop that day with a newfound sense of purpose and understanding. She knew that life was a journey, not a destination, and that the meaning of life was not something that could be found, but something that must be lived. She returned to her village, and shared her newfound wisdom with her friends and family, and together, they lived their lives with a sense of wonder, joy, and connection to all things.' additional_kwargs={} response_metadata={'token_usage': {'completion_tokens': 847, 'prompt_tokens': 44, 'total_tokens': 891, 'completion_time': 3.08, 'prompt_time': 0.002436713, 'queue_time': 0.241762271, 'total_time': 3.082436713}, 'model_name': 'llama-3.3-70b-versatile', 'system_fingerprint': 'fp_3f3b593e33', 'finish_reason': 'stop', 'logprobs': None} id='run-825120fd-34c2-47c3-b6f5-c2d0ca51802a-0' usage_metadata={'input_tokens': 44, 'output_tokens': 847, 'total_tokens': 891}+\n",
            "\n",
            "+Joke:content='Why did life bring a ladder to the party. Because it wanted to take things to the next level.' additional_kwargs={} response_metadata={'token_usage': {'completion_tokens': 22, 'prompt_tokens': 44, 'total_tokens': 66, 'completion_time': 0.08, 'prompt_time': 0.003191063, 'queue_time': 0.473252807, 'total_time': 0.083191063}, 'model_name': 'llama-3.3-70b-versatile', 'system_fingerprint': 'fp_3f3b593e33', 'finish_reason': 'stop', 'logprobs': None} id='run-f850c533-1cb5-4320-b11c-34525723ddeb-0' usage_metadata={'input_tokens': 44, 'output_tokens': 22, 'total_tokens': 66}\n"
          ]
        }
      ]
    },
    {
      "cell_type": "markdown",
      "source": [
        "</section>"
      ],
      "metadata": {
        "id": "5BX5OArsASvn"
      }
    },
    {
      "cell_type": "markdown",
      "source": [
        "# ***next***\n"
      ],
      "metadata": {
        "id": "epcpyRCiA95f"
      }
    },
    {
      "cell_type": "code",
      "source": [],
      "metadata": {
        "id": "mMj1fnESBDOZ"
      },
      "execution_count": null,
      "outputs": []
    }
  ]
}